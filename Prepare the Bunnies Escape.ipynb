{
 "cells": [
  {
   "cell_type": "code",
   "execution_count": 1,
   "id": "607a9ed9",
   "metadata": {},
   "outputs": [],
   "source": [
    "from collections import deque\n",
    "def solution(map):\n",
    "  all_distances = []\n",
    "  for i in range(len(map)):\n",
    "    for j in range(len(map[0])):\n",
    "      if map[i][j] == 1:\n",
    "        map[i][j] = 0\n",
    "\n",
    "        def neighbors(vertex):\n",
    "          neighbor_index = [(1,0), (-1,0), (0,1), (0,-1)]\n",
    "          x , y = vertex\n",
    "          neighbors = []\n",
    "          for a,b in neighbor_index:\n",
    "            new_x , new_y = x + a, y + b\n",
    "            if (len(map) > new_x >= 0) and (len(map[0]) > new_y >=0) and (map[new_x][new_y] == 0):\n",
    "                neighbors.append((new_x, new_y))\n",
    "          return neighbors\n",
    "\n",
    "        start = (0,0)\n",
    "        end = (len(map) - 1 , len(map[0]) - 1)\n",
    "        visited = set()\n",
    "        distances = {start:0}\n",
    "        queue = deque([(start,0)])\n",
    "        while queue:\n",
    "          current_vertex, current_distance = queue.popleft()\n",
    "          if current_vertex == end:\n",
    "            all_distances.append(current_distance + 1)\n",
    "          if current_vertex not in visited:\n",
    "            visited.add(current_vertex)\n",
    "            for neighbor in neighbors(current_vertex):\n",
    "              if neighbor not in visited:\n",
    "                distances[neighbor] = current_distance + 1\n",
    "                queue.append((neighbor, current_distance+1))\n",
    "        map[i][j] = 1\n",
    "  return min(all_distances)"
   ]
  },
  {
   "cell_type": "code",
   "execution_count": null,
   "id": "b8c06a96",
   "metadata": {},
   "outputs": [],
   "source": []
  }
 ],
 "metadata": {
  "kernelspec": {
   "display_name": "Python 3 (ipykernel)",
   "language": "python",
   "name": "python3"
  },
  "language_info": {
   "codemirror_mode": {
    "name": "ipython",
    "version": 3
   },
   "file_extension": ".py",
   "mimetype": "text/x-python",
   "name": "python",
   "nbconvert_exporter": "python",
   "pygments_lexer": "ipython3",
   "version": "3.11.5"
  }
 },
 "nbformat": 4,
 "nbformat_minor": 5
}
